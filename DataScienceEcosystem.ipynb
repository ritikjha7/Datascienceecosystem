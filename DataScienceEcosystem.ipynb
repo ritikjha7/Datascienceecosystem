{
  "nbformat": 4,
  "nbformat_minor": 0,
  "metadata": {
    "colab": {
      "provenance": []
    },
    "kernelspec": {
      "name": "python3",
      "display_name": "Python 3"
    },
    "language_info": {
      "name": "python"
    }
  },
  "cells": [
    {
      "cell_type": "markdown",
      "source": [
        "# Data Science Tools and Ecosystem"
      ],
      "metadata": {
        "id": "bjrZ1JYIy4mw"
      }
    },
    {
      "cell_type": "markdown",
      "source": [
        "In this notebook, Data Science Tools and Ecosystem are summarized.\n",
        "\n",
        "\n",
        "\n"
      ],
      "metadata": {
        "id": "o1u5am4V0Ax2"
      }
    },
    {
      "cell_type": "markdown",
      "source": [
        "**Objectives:**\n",
        "\n",
        "\n",
        "*   List popular languages for Data Science\n",
        "*   List commonly used libraries in data science.\n",
        "*   List some of tha data science environmnet tools.\n",
        "\n",
        "\n",
        "\n"
      ],
      "metadata": {
        "id": "2aqcVV-5BmQX"
      }
    },
    {
      "cell_type": "markdown",
      "source": [
        "Some of the popular languages that Data Scientists use are:\n",
        "\n",
        "1.   Python\n",
        "1.   R Language\n",
        "2.   Scala\n",
        "\n",
        "\n",
        "\n",
        "\n",
        "\n",
        "\n"
      ],
      "metadata": {
        "id": "SDnIR9S31r_V"
      }
    },
    {
      "cell_type": "markdown",
      "source": [
        "Some of the commonly used libraries used by Data Scientists include:\n",
        "\n",
        "1.   NumPy\n",
        "1.   Pandas\n",
        "2.   Matplotlib\n",
        "\n",
        "\n"
      ],
      "metadata": {
        "id": "MEsyNV6H2j_V"
      }
    },
    {
      "cell_type": "markdown",
      "source": [
        "#Data Science Tools\n",
        "\n",
        "1.   R Studio\n",
        "1.   Visual Studio Code\n",
        "2.   Watson studio\n",
        "\n",
        "\n"
      ],
      "metadata": {
        "id": "pd2db71N86as"
      }
    },
    {
      "cell_type": "markdown",
      "source": [
        "### Below are a few examples of evaluating arithmetic expressions in Python"
      ],
      "metadata": {
        "id": "9409F_dv-er8"
      }
    },
    {
      "cell_type": "code",
      "source": [
        "#This a simple arithmetic expression to mutiply then add integers\n",
        "(3*4)+5"
      ],
      "metadata": {
        "colab": {
          "base_uri": "https://localhost:8080/"
        },
        "id": "txKkR6KQ_DW3",
        "outputId": "da66ca05-b5a6-40fa-e83b-c05ffd5dd6d4"
      },
      "execution_count": 1,
      "outputs": [
        {
          "output_type": "execute_result",
          "data": {
            "text/plain": [
              "17"
            ]
          },
          "metadata": {},
          "execution_count": 1
        }
      ]
    },
    {
      "cell_type": "code",
      "source": [
        "#This will convert 200 minutes to hours by diving by 60\n",
        "print(200/60)"
      ],
      "metadata": {
        "colab": {
          "base_uri": "https://localhost:8080/"
        },
        "id": "fmyGJY0t_gU8",
        "outputId": "24ea3445-51f3-479c-a989-2f882e76cdc7"
      },
      "execution_count": 7,
      "outputs": [
        {
          "output_type": "stream",
          "name": "stdout",
          "text": [
            "3.3333333333333335\n"
          ]
        }
      ]
    },
    {
      "cell_type": "markdown",
      "source": [
        "## Author\n",
        "RITIK JHA"
      ],
      "metadata": {
        "id": "yJsh2rF6CmDk"
      }
    }
  ]
}